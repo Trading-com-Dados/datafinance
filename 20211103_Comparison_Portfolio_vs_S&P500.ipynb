{
  "nbformat": 4,
  "nbformat_minor": 0,
  "metadata": {
    "colab": {
      "name": "20211103 - Comparison Portfolio vs S&P500.ipynb",
      "provenance": [],
      "authorship_tag": "ABX9TyODaO52KHN5Pr+jMpphwsV7",
      "include_colab_link": true
    },
    "kernelspec": {
      "name": "python3",
      "display_name": "Python 3"
    },
    "language_info": {
      "name": "python"
    }
  },
  "cells": [
    {
      "cell_type": "markdown",
      "metadata": {
        "id": "view-in-github",
        "colab_type": "text"
      },
      "source": [
        "<a href=\"https://colab.research.google.com/github/Trading-com-Dados/datafinance/blob/main/20211103_Comparison_Portfolio_vs_S%26P500.ipynb\" target=\"_parent\"><img src=\"https://colab.research.google.com/assets/colab-badge.svg\" alt=\"Open In Colab\"/></a>"
      ]
    },
    {
      "cell_type": "markdown",
      "metadata": {
        "id": "cPHJmLsAS5Js"
      },
      "source": [
        "# Code for comparing a fictional portfolio with S&P500"
      ]
    },
    {
      "cell_type": "markdown",
      "metadata": {
        "id": "GiqLrjMJGDnZ"
      },
      "source": [
        "## 1. Installing and importing libraries"
      ]
    },
    {
      "cell_type": "code",
      "metadata": {
        "colab": {
          "base_uri": "https://localhost:8080/"
        },
        "id": "d81aLa1XGOvh",
        "outputId": "057c0601-9616-4fe6-ac84-b840639ac2c4"
      },
      "source": [
        "!pip install yfinance"
      ],
      "execution_count": 2,
      "outputs": [
        {
          "output_type": "stream",
          "name": "stdout",
          "text": [
            "Collecting yfinance\n",
            "  Downloading yfinance-0.1.64.tar.gz (26 kB)\n",
            "Requirement already satisfied: pandas>=0.24 in /usr/local/lib/python3.7/dist-packages (from yfinance) (1.1.5)\n",
            "Requirement already satisfied: numpy>=1.15 in /usr/local/lib/python3.7/dist-packages (from yfinance) (1.19.5)\n",
            "Requirement already satisfied: requests>=2.20 in /usr/local/lib/python3.7/dist-packages (from yfinance) (2.23.0)\n",
            "Requirement already satisfied: multitasking>=0.0.7 in /usr/local/lib/python3.7/dist-packages (from yfinance) (0.0.9)\n",
            "Collecting lxml>=4.5.1\n",
            "  Downloading lxml-4.6.4-cp37-cp37m-manylinux_2_17_x86_64.manylinux2014_x86_64.manylinux_2_24_x86_64.whl (6.3 MB)\n",
            "\u001b[K     |████████████████████████████████| 6.3 MB 38.4 MB/s \n",
            "\u001b[?25hRequirement already satisfied: python-dateutil>=2.7.3 in /usr/local/lib/python3.7/dist-packages (from pandas>=0.24->yfinance) (2.8.2)\n",
            "Requirement already satisfied: pytz>=2017.2 in /usr/local/lib/python3.7/dist-packages (from pandas>=0.24->yfinance) (2018.9)\n",
            "Requirement already satisfied: six>=1.5 in /usr/local/lib/python3.7/dist-packages (from python-dateutil>=2.7.3->pandas>=0.24->yfinance) (1.15.0)\n",
            "Requirement already satisfied: certifi>=2017.4.17 in /usr/local/lib/python3.7/dist-packages (from requests>=2.20->yfinance) (2021.5.30)\n",
            "Requirement already satisfied: chardet<4,>=3.0.2 in /usr/local/lib/python3.7/dist-packages (from requests>=2.20->yfinance) (3.0.4)\n",
            "Requirement already satisfied: urllib3!=1.25.0,!=1.25.1,<1.26,>=1.21.1 in /usr/local/lib/python3.7/dist-packages (from requests>=2.20->yfinance) (1.24.3)\n",
            "Requirement already satisfied: idna<3,>=2.5 in /usr/local/lib/python3.7/dist-packages (from requests>=2.20->yfinance) (2.10)\n",
            "Building wheels for collected packages: yfinance\n",
            "  Building wheel for yfinance (setup.py) ... \u001b[?25l\u001b[?25hdone\n",
            "  Created wheel for yfinance: filename=yfinance-0.1.64-py2.py3-none-any.whl size=24109 sha256=bd6d6fbd13f19f5e8a1132b524fb2b680e07a1b142dd478554139452eead0d91\n",
            "  Stored in directory: /root/.cache/pip/wheels/86/fe/9b/a4d3d78796b699e37065e5b6c27b75cff448ddb8b24943c288\n",
            "Successfully built yfinance\n",
            "Installing collected packages: lxml, yfinance\n",
            "  Attempting uninstall: lxml\n",
            "    Found existing installation: lxml 4.2.6\n",
            "    Uninstalling lxml-4.2.6:\n",
            "      Successfully uninstalled lxml-4.2.6\n",
            "Successfully installed lxml-4.6.4 yfinance-0.1.64\n"
          ]
        }
      ]
    },
    {
      "cell_type": "code",
      "metadata": {
        "id": "RepZm8AQGnKe"
      },
      "source": [
        "import yfinance as yf\n",
        "import pandas as pd\n",
        "import numpy as np"
      ],
      "execution_count": 3,
      "outputs": []
    },
    {
      "cell_type": "markdown",
      "metadata": {
        "id": "z6m9axgvGrfU"
      },
      "source": [
        "## 2. Importing data"
      ]
    },
    {
      "cell_type": "code",
      "metadata": {
        "id": "0afxh-iuGype"
      },
      "source": [
        "stocks = ['AMZN','AAPL','GLD','CAT','AMT',\n",
        "          'GOOGL','BA', 'GS','XOM','DE', \n",
        "          'TSLA', 'FB', 'MSFT','BTC-USD','ETH-USD']"
      ],
      "execution_count": 59,
      "outputs": []
    },
    {
      "cell_type": "code",
      "metadata": {
        "id": "dnaRWJI2HFtf"
      },
      "source": [
        "start = '2020-01-01'\n",
        "end = '2021-11-04'"
      ],
      "execution_count": 60,
      "outputs": []
    },
    {
      "cell_type": "code",
      "metadata": {
        "id": "A8R1uR4JHLmU",
        "colab": {
          "base_uri": "https://localhost:8080/"
        },
        "outputId": "9b5322f2-fe2d-4d52-9b43-34b843c9ae69"
      },
      "source": [
        "prices = pd.DataFrame()\n",
        "\n",
        "for i in stocks:\n",
        "  prices[i] = yf.download(i,start = start, \n",
        "                          end = end)['Adj Close']"
      ],
      "execution_count": 61,
      "outputs": [
        {
          "output_type": "stream",
          "name": "stdout",
          "text": [
            "[*********************100%***********************]  1 of 1 completed\n",
            "[*********************100%***********************]  1 of 1 completed\n",
            "[*********************100%***********************]  1 of 1 completed\n",
            "[*********************100%***********************]  1 of 1 completed\n",
            "[*********************100%***********************]  1 of 1 completed\n",
            "[*********************100%***********************]  1 of 1 completed\n",
            "[*********************100%***********************]  1 of 1 completed\n",
            "[*********************100%***********************]  1 of 1 completed\n",
            "[*********************100%***********************]  1 of 1 completed\n",
            "[*********************100%***********************]  1 of 1 completed\n",
            "[*********************100%***********************]  1 of 1 completed\n",
            "[*********************100%***********************]  1 of 1 completed\n",
            "[*********************100%***********************]  1 of 1 completed\n",
            "[*********************100%***********************]  1 of 1 completed\n",
            "[*********************100%***********************]  1 of 1 completed\n"
          ]
        }
      ]
    },
    {
      "cell_type": "markdown",
      "metadata": {
        "id": "PI0-N2C_hHp7"
      },
      "source": [
        "Let's normalize the stock prices to analyze its performances"
      ]
    },
    {
      "cell_type": "code",
      "metadata": {
        "id": "fxMP5hxDlGDb"
      },
      "source": [
        "normalized = prices/prices.iloc[0]"
      ],
      "execution_count": 62,
      "outputs": []
    },
    {
      "cell_type": "code",
      "metadata": {
        "colab": {
          "base_uri": "https://localhost:8080/",
          "height": 473
        },
        "id": "ihthadVAlJWY",
        "outputId": "6c4dd448-bf40-44f1-f28f-8d9629a1abee"
      },
      "source": [
        "normalized.plot(figsize = (8,8));"
      ],
      "execution_count": 63,
      "outputs": [
        {
          "output_type": "display_data",
          "data": {
            "image/png": "[encoded data removed]",
            "text/plain": [
              "<Figure size 576x576 with 1 Axes>"
            ]
          },
          "metadata": {
            "needs_background": "light"
          }
        }
      ]
    },
    {
      "cell_type": "markdown",
      "metadata": {
        "id": "ygXugB2HRUTP"
      },
      "source": [
        "## 3. Simulating our portfolio"
      ]
    },
    {
      "cell_type": "markdown",
      "metadata": {
        "id": "WjLyg_YAhNTN"
      },
      "source": [
        "We will create a dictionary with the amount of stocks we will buy"
      ]
    },
    {
      "cell_type": "code",
      "metadata": {
        "id": "yvScK3egUh4j"
      },
      "source": [
        "purchases = {'AMZN':2500,'GLD':2400,'XOM':2300,'AMT':2200,'CAT':2000,'BA':1800,\n",
        "             'AAPL':1400, 'GS':1400,'DE':1200, 'GOOGL':1000, \n",
        "          'TSLA':800, 'FB':500, 'MSFT':300,'BTC-USD':100,'ETH-USD':100}\n",
        "           \n",
        "purchases_df = pd.Series(data=purchases, index=list(purchases.keys()))"
      ],
      "execution_count": 64,
      "outputs": []
    },
    {
      "cell_type": "markdown",
      "metadata": {
        "id": "PD6qNIYRhRwe"
      },
      "source": [
        "What is the total value of our portfolio on the first day?"
      ]
    },
    {
      "cell_type": "code",
      "metadata": {
        "colab": {
          "base_uri": "https://localhost:8080/"
        },
        "id": "hXoBtcLGVl4T",
        "outputId": "27a7b815-6571-486a-d5f2-c61782f30e0f"
      },
      "source": [
        "sum(purchases.values())"
      ],
      "execution_count": 65,
      "outputs": [
        {
          "output_type": "execute_result",
          "data": {
            "text/plain": [
              "20000"
            ]
          },
          "metadata": {},
          "execution_count": 65
        }
      ]
    },
    {
      "cell_type": "markdown",
      "metadata": {
        "id": "7r7Z_dvyhVp1"
      },
      "source": [
        "Prices of stocks on the first day of investments"
      ]
    },
    {
      "cell_type": "code",
      "metadata": {
        "id": "kducAbvOTQbG"
      },
      "source": [
        "first = prices.iloc[0]"
      ],
      "execution_count": 66,
      "outputs": []
    },
    {
      "cell_type": "markdown",
      "metadata": {
        "id": "MLlDt8g_hbt_"
      },
      "source": [
        "Number of shares from each stock"
      ]
    },
    {
      "cell_type": "code",
      "metadata": {
        "id": "Ch8fKAB-UtHL"
      },
      "source": [
        "qt_stocks = purchases_df/first"
      ],
      "execution_count": 67,
      "outputs": []
    },
    {
      "cell_type": "markdown",
      "metadata": {
        "id": "e_6vFWFHhe39"
      },
      "source": [
        "Create a dataframe containing the daily position of each stock"
      ]
    },
    {
      "cell_type": "code",
      "metadata": {
        "id": "xip2jxnXTquR"
      },
      "source": [
        "net_worth = prices*qt_stocks"
      ],
      "execution_count": 68,
      "outputs": []
    },
    {
      "cell_type": "code",
      "metadata": {
        "colab": {
          "base_uri": "https://localhost:8080/",
          "height": 338
        },
        "id": "5Ylaf9YhWks8",
        "outputId": "d3856cca-0b7e-4ddf-dd9a-ba2097b8a677"
      },
      "source": [
        "net_worth.head()"
      ],
      "execution_count": 69,
      "outputs": [
        {
          "output_type": "execute_result",
          "data": {
            "text/html": [
              "<div>\n",
              "<style scoped>\n",
              "    .dataframe tbody tr th:only-of-type {\n",
              "        vertical-align: middle;\n",
              "    }\n",
              "\n",
              "    .dataframe tbody tr th {\n",
              "        vertical-align: top;\n",
              "    }\n",
              "\n",
              "    .dataframe thead th {\n",
              "        text-align: right;\n",
              "    }\n",
              "</style>\n",
              "<table border=\"1\" class=\"dataframe\">\n",
              "  <thead>\n",
              "    <tr style=\"text-align: right;\">\n",
              "      <th></th>\n",
              "      <th>AAPL</th>\n",
              "      <th>AMT</th>\n",
              "      <th>AMZN</th>\n",
              "      <th>BA</th>\n",
              "      <th>BTC-USD</th>\n",
              "      <th>CAT</th>\n",
              "      <th>DE</th>\n",
              "      <th>ETH-USD</th>\n",
              "      <th>FB</th>\n",
              "      <th>GLD</th>\n",
              "      <th>GOOGL</th>\n",
              "      <th>GS</th>\n",
              "      <th>MSFT</th>\n",
              "      <th>TSLA</th>\n",
              "      <th>XOM</th>\n",
              "    </tr>\n",
              "    <tr>\n",
              "      <th>Date</th>\n",
              "      <th></th>\n",
              "      <th></th>\n",
              "      <th></th>\n",
              "      <th></th>\n",
              "      <th></th>\n",
              "      <th></th>\n",
              "      <th></th>\n",
              "      <th></th>\n",
              "      <th></th>\n",
              "      <th></th>\n",
              "      <th></th>\n",
              "      <th></th>\n",
              "      <th></th>\n",
              "      <th></th>\n",
              "      <th></th>\n",
              "    </tr>\n",
              "  </thead>\n",
              "  <tbody>\n",
              "    <tr>\n",
              "      <th>2020-01-02</th>\n",
              "      <td>1400.000000</td>\n",
              "      <td>2200.000000</td>\n",
              "      <td>2500.000000</td>\n",
              "      <td>1800.000000</td>\n",
              "      <td>100.000000</td>\n",
              "      <td>2000.000000</td>\n",
              "      <td>1200.000000</td>\n",
              "      <td>100.000000</td>\n",
              "      <td>500.000000</td>\n",
              "      <td>2400.000000</td>\n",
              "      <td>1000.000000</td>\n",
              "      <td>1400.000000</td>\n",
              "      <td>300.000000</td>\n",
              "      <td>800.000000</td>\n",
              "      <td>2300.000000</td>\n",
              "    </tr>\n",
              "    <tr>\n",
              "      <th>2020-01-03</th>\n",
              "      <td>1386.389023</td>\n",
              "      <td>2201.059173</td>\n",
              "      <td>2469.652374</td>\n",
              "      <td>1796.975970</td>\n",
              "      <td>105.145166</td>\n",
              "      <td>1972.231852</td>\n",
              "      <td>1191.111450</td>\n",
              "      <td>105.306898</td>\n",
              "      <td>497.354370</td>\n",
              "      <td>2431.844452</td>\n",
              "      <td>994.768657</td>\n",
              "      <td>1383.629208</td>\n",
              "      <td>296.264453</td>\n",
              "      <td>823.706553</td>\n",
              "      <td>2281.508963</td>\n",
              "    </tr>\n",
              "    <tr>\n",
              "      <th>2020-01-06</th>\n",
              "      <td>1397.436256</td>\n",
              "      <td>2200.481359</td>\n",
              "      <td>2506.414607</td>\n",
              "      <td>1802.268064</td>\n",
              "      <td>111.219703</td>\n",
              "      <td>1970.902737</td>\n",
              "      <td>1199.660721</td>\n",
              "      <td>113.259517</td>\n",
              "      <td>506.721345</td>\n",
              "      <td>2457.353290</td>\n",
              "      <td>1021.283283</td>\n",
              "      <td>1397.789475</td>\n",
              "      <td>297.030255</td>\n",
              "      <td>839.566742</td>\n",
              "      <td>2299.026802</td>\n",
              "    </tr>\n",
              "    <tr>\n",
              "      <th>2020-01-07</th>\n",
              "      <td>1390.864366</td>\n",
              "      <td>2153.592654</td>\n",
              "      <td>2511.656914</td>\n",
              "      <td>1821.384888</td>\n",
              "      <td>116.866755</td>\n",
              "      <td>1944.861969</td>\n",
              "      <td>1178.830856</td>\n",
              "      <td>112.662891</td>\n",
              "      <td>507.817711</td>\n",
              "      <td>2467.023345</td>\n",
              "      <td>1019.310526</td>\n",
              "      <td>1406.990497</td>\n",
              "      <td>294.321943</td>\n",
              "      <td>872.142373</td>\n",
              "      <td>2280.211459</td>\n",
              "    </tr>\n",
              "    <tr>\n",
              "      <th>2020-01-08</th>\n",
              "      <td>1413.238056</td>\n",
              "      <td>2172.271185</td>\n",
              "      <td>2492.044248</td>\n",
              "      <td>1789.469525</td>\n",
              "      <td>115.666699</td>\n",
              "      <td>1962.133859</td>\n",
              "      <td>1193.486295</td>\n",
              "      <td>110.868797</td>\n",
              "      <td>512.965970</td>\n",
              "      <td>2448.516908</td>\n",
              "      <td>1026.565730</td>\n",
              "      <td>1420.553031</td>\n",
              "      <td>299.010104</td>\n",
              "      <td>915.056005</td>\n",
              "      <td>2245.825091</td>\n",
              "    </tr>\n",
              "  </tbody>\n",
              "</table>\n",
              "</div>"
            ],
            "text/plain": [
              "                   AAPL          AMT  ...        TSLA          XOM\n",
              "Date                                  ...                         \n",
              "2020-01-02  1400.000000  2200.000000  ...  800.000000  2300.000000\n",
              "2020-01-03  1386.389023  2201.059173  ...  823.706553  2281.508963\n",
              "2020-01-06  1397.436256  2200.481359  ...  839.566742  2299.026802\n",
              "2020-01-07  1390.864366  2153.592654  ...  872.142373  2280.211459\n",
              "2020-01-08  1413.238056  2172.271185  ...  915.056005  2245.825091\n",
              "\n",
              "[5 rows x 15 columns]"
            ]
          },
          "metadata": {},
          "execution_count": 69
        }
      ]
    },
    {
      "cell_type": "code",
      "metadata": {
        "colab": {
          "base_uri": "https://localhost:8080/",
          "height": 338
        },
        "id": "x5dKstQCT-Sd",
        "outputId": "fc7aa8de-ddee-42c0-cfa6-7ffeb769e13c"
      },
      "source": [
        "net_worth.tail()"
      ],
      "execution_count": 70,
      "outputs": [
        {
          "output_type": "execute_result",
          "data": {
            "text/html": [
              "<div>\n",
              "<style scoped>\n",
              "    .dataframe tbody tr th:only-of-type {\n",
              "        vertical-align: middle;\n",
              "    }\n",
              "\n",
              "    .dataframe tbody tr th {\n",
              "        vertical-align: top;\n",
              "    }\n",
              "\n",
              "    .dataframe thead th {\n",
              "        text-align: right;\n",
              "    }\n",
              "</style>\n",
              "<table border=\"1\" class=\"dataframe\">\n",
              "  <thead>\n",
              "    <tr style=\"text-align: right;\">\n",
              "      <th></th>\n",
              "      <th>AAPL</th>\n",
              "      <th>AMT</th>\n",
              "      <th>AMZN</th>\n",
              "      <th>BA</th>\n",
              "      <th>BTC-USD</th>\n",
              "      <th>CAT</th>\n",
              "      <th>DE</th>\n",
              "      <th>ETH-USD</th>\n",
              "      <th>FB</th>\n",
              "      <th>GLD</th>\n",
              "      <th>GOOGL</th>\n",
              "      <th>GS</th>\n",
              "      <th>MSFT</th>\n",
              "      <th>TSLA</th>\n",
              "      <th>XOM</th>\n",
              "    </tr>\n",
              "    <tr>\n",
              "      <th>Date</th>\n",
              "      <th></th>\n",
              "      <th></th>\n",
              "      <th></th>\n",
              "      <th></th>\n",
              "      <th></th>\n",
              "      <th></th>\n",
              "      <th></th>\n",
              "      <th></th>\n",
              "      <th></th>\n",
              "      <th></th>\n",
              "      <th></th>\n",
              "      <th></th>\n",
              "      <th></th>\n",
              "      <th></th>\n",
              "      <th></th>\n",
              "    </tr>\n",
              "  </thead>\n",
              "  <tbody>\n",
              "    <tr>\n",
              "      <th>2021-10-28</th>\n",
              "      <td>2882.702315</td>\n",
              "      <td>2847.136255</td>\n",
              "      <td>4539.715347</td>\n",
              "      <td>1129.113094</td>\n",
              "      <td>867.831869</td>\n",
              "      <td>2851.658452</td>\n",
              "      <td>2432.906425</td>\n",
              "      <td>3364.973565</td>\n",
              "      <td>755.362797</td>\n",
              "      <td>2802.306446</td>\n",
              "      <td>2131.235837</td>\n",
              "      <td>2569.130728</td>\n",
              "      <td>616.230857</td>\n",
              "      <td>10012.922555</td>\n",
              "      <td>2359.648359</td>\n",
              "    </tr>\n",
              "    <tr>\n",
              "      <th>2021-10-29</th>\n",
              "      <td>2830.365044</td>\n",
              "      <td>2806.919289</td>\n",
              "      <td>4442.060256</td>\n",
              "      <td>1124.658530</td>\n",
              "      <td>890.819987</td>\n",
              "      <td>2850.540622</td>\n",
              "      <td>2381.493175</td>\n",
              "      <td>3464.987344</td>\n",
              "      <td>771.212721</td>\n",
              "      <td>2778.464702</td>\n",
              "      <td>2163.339718</td>\n",
              "      <td>2560.026477</td>\n",
              "      <td>630.043071</td>\n",
              "      <td>10356.528376</td>\n",
              "      <td>2365.519178</td>\n",
              "    </tr>\n",
              "    <tr>\n",
              "      <th>2021-11-01</th>\n",
              "      <td>2814.493908</td>\n",
              "      <td>2808.213445</td>\n",
              "      <td>4370.511866</td>\n",
              "      <td>1165.672757</td>\n",
              "      <td>873.304221</td>\n",
              "      <td>2869.683166</td>\n",
              "      <td>2495.868314</td>\n",
              "      <td>3394.255453</td>\n",
              "      <td>786.490640</td>\n",
              "      <td>2792.969912</td>\n",
              "      <td>2096.866929</td>\n",
              "      <td>2580.774280</td>\n",
              "      <td>625.768308</td>\n",
              "      <td>11235.903299</td>\n",
              "      <td>2408.081499</td>\n",
              "    </tr>\n",
              "    <tr>\n",
              "      <th>2021-11-02</th>\n",
              "      <td>2834.521812</td>\n",
              "      <td>2813.688394</td>\n",
              "      <td>4363.451698</td>\n",
              "      <td>1155.840225</td>\n",
              "      <td>905.113047</td>\n",
              "      <td>2893.995273</td>\n",
              "      <td>2471.866151</td>\n",
              "      <td>3598.455680</td>\n",
              "      <td>781.962028</td>\n",
              "      <td>2786.967817</td>\n",
              "      <td>2125.149625</td>\n",
              "      <td>2625.056785</td>\n",
              "      <td>632.911930</td>\n",
              "      <td>10895.737214</td>\n",
              "      <td>2378.361246</td>\n",
              "    </tr>\n",
              "    <tr>\n",
              "      <th>2021-11-03</th>\n",
              "      <td>2862.296444</td>\n",
              "      <td>2793.281435</td>\n",
              "      <td>4457.299991</td>\n",
              "      <td>1159.153959</td>\n",
              "      <td>901.443209</td>\n",
              "      <td>2844.113367</td>\n",
              "      <td>2386.641379</td>\n",
              "      <td>3616.032784</td>\n",
              "      <td>790.399459</td>\n",
              "      <td>2763.793114</td>\n",
              "      <td>2142.180675</td>\n",
              "      <td>2588.206201</td>\n",
              "      <td>634.564829</td>\n",
              "      <td>11284.897112</td>\n",
              "      <td>2345.705583</td>\n",
              "    </tr>\n",
              "  </tbody>\n",
              "</table>\n",
              "</div>"
            ],
            "text/plain": [
              "                   AAPL          AMT  ...          TSLA          XOM\n",
              "Date                                  ...                           \n",
              "2021-10-28  2882.702315  2847.136255  ...  10012.922555  2359.648359\n",
              "2021-10-29  2830.365044  2806.919289  ...  10356.528376  2365.519178\n",
              "2021-11-01  2814.493908  2808.213445  ...  11235.903299  2408.081499\n",
              "2021-11-02  2834.521812  2813.688394  ...  10895.737214  2378.361246\n",
              "2021-11-03  2862.296444  2793.281435  ...  11284.897112  2345.705583\n",
              "\n",
              "[5 rows x 15 columns]"
            ]
          },
          "metadata": {},
          "execution_count": 70
        }
      ]
    },
    {
      "cell_type": "markdown",
      "metadata": {
        "id": "8ww6Ls7OhjC-"
      },
      "source": [
        "Let's create a new column that contains the daily closing position of our portfolio"
      ]
    },
    {
      "cell_type": "code",
      "metadata": {
        "id": "rAWeyr0tT_QU"
      },
      "source": [
        "net_worth['Portfolio'] = net_worth.sum(axis = 1)"
      ],
      "execution_count": 71,
      "outputs": []
    },
    {
      "cell_type": "code",
      "metadata": {
        "colab": {
          "base_uri": "https://localhost:8080/",
          "height": 338
        },
        "id": "IZHg_ZGdUruQ",
        "outputId": "8e60c3c4-f3c0-49b0-d1d2-02ae9907b1cb"
      },
      "source": [
        "net_worth.head()"
      ],
      "execution_count": 72,
      "outputs": [
        {
          "output_type": "execute_result",
          "data": {
            "text/html": [
              "<div>\n",
              "<style scoped>\n",
              "    .dataframe tbody tr th:only-of-type {\n",
              "        vertical-align: middle;\n",
              "    }\n",
              "\n",
              "    .dataframe tbody tr th {\n",
              "        vertical-align: top;\n",
              "    }\n",
              "\n",
              "    .dataframe thead th {\n",
              "        text-align: right;\n",
              "    }\n",
              "</style>\n",
              "<table border=\"1\" class=\"dataframe\">\n",
              "  <thead>\n",
              "    <tr style=\"text-align: right;\">\n",
              "      <th></th>\n",
              "      <th>AAPL</th>\n",
              "      <th>AMT</th>\n",
              "      <th>AMZN</th>\n",
              "      <th>BA</th>\n",
              "      <th>BTC-USD</th>\n",
              "      <th>CAT</th>\n",
              "      <th>DE</th>\n",
              "      <th>ETH-USD</th>\n",
              "      <th>FB</th>\n",
              "      <th>GLD</th>\n",
              "      <th>GOOGL</th>\n",
              "      <th>GS</th>\n",
              "      <th>MSFT</th>\n",
              "      <th>TSLA</th>\n",
              "      <th>XOM</th>\n",
              "      <th>Portfolio</th>\n",
              "    </tr>\n",
              "    <tr>\n",
              "      <th>Date</th>\n",
              "      <th></th>\n",
              "      <th></th>\n",
              "      <th></th>\n",
              "      <th></th>\n",
              "      <th></th>\n",
              "      <th></th>\n",
              "      <th></th>\n",
              "      <th></th>\n",
              "      <th></th>\n",
              "      <th></th>\n",
              "      <th></th>\n",
              "      <th></th>\n",
              "      <th></th>\n",
              "      <th></th>\n",
              "      <th></th>\n",
              "      <th></th>\n",
              "    </tr>\n",
              "  </thead>\n",
              "  <tbody>\n",
              "    <tr>\n",
              "      <th>2020-01-02</th>\n",
              "      <td>1400.000000</td>\n",
              "      <td>2200.000000</td>\n",
              "      <td>2500.000000</td>\n",
              "      <td>1800.000000</td>\n",
              "      <td>100.000000</td>\n",
              "      <td>2000.000000</td>\n",
              "      <td>1200.000000</td>\n",
              "      <td>100.000000</td>\n",
              "      <td>500.000000</td>\n",
              "      <td>2400.000000</td>\n",
              "      <td>1000.000000</td>\n",
              "      <td>1400.000000</td>\n",
              "      <td>300.000000</td>\n",
              "      <td>800.000000</td>\n",
              "      <td>2300.000000</td>\n",
              "      <td>20000.000000</td>\n",
              "    </tr>\n",
              "    <tr>\n",
              "      <th>2020-01-03</th>\n",
              "      <td>1386.389023</td>\n",
              "      <td>2201.059173</td>\n",
              "      <td>2469.652374</td>\n",
              "      <td>1796.975970</td>\n",
              "      <td>105.145166</td>\n",
              "      <td>1972.231852</td>\n",
              "      <td>1191.111450</td>\n",
              "      <td>105.306898</td>\n",
              "      <td>497.354370</td>\n",
              "      <td>2431.844452</td>\n",
              "      <td>994.768657</td>\n",
              "      <td>1383.629208</td>\n",
              "      <td>296.264453</td>\n",
              "      <td>823.706553</td>\n",
              "      <td>2281.508963</td>\n",
              "      <td>19936.948562</td>\n",
              "    </tr>\n",
              "    <tr>\n",
              "      <th>2020-01-06</th>\n",
              "      <td>1397.436256</td>\n",
              "      <td>2200.481359</td>\n",
              "      <td>2506.414607</td>\n",
              "      <td>1802.268064</td>\n",
              "      <td>111.219703</td>\n",
              "      <td>1970.902737</td>\n",
              "      <td>1199.660721</td>\n",
              "      <td>113.259517</td>\n",
              "      <td>506.721345</td>\n",
              "      <td>2457.353290</td>\n",
              "      <td>1021.283283</td>\n",
              "      <td>1397.789475</td>\n",
              "      <td>297.030255</td>\n",
              "      <td>839.566742</td>\n",
              "      <td>2299.026802</td>\n",
              "      <td>20120.414156</td>\n",
              "    </tr>\n",
              "    <tr>\n",
              "      <th>2020-01-07</th>\n",
              "      <td>1390.864366</td>\n",
              "      <td>2153.592654</td>\n",
              "      <td>2511.656914</td>\n",
              "      <td>1821.384888</td>\n",
              "      <td>116.866755</td>\n",
              "      <td>1944.861969</td>\n",
              "      <td>1178.830856</td>\n",
              "      <td>112.662891</td>\n",
              "      <td>507.817711</td>\n",
              "      <td>2467.023345</td>\n",
              "      <td>1019.310526</td>\n",
              "      <td>1406.990497</td>\n",
              "      <td>294.321943</td>\n",
              "      <td>872.142373</td>\n",
              "      <td>2280.211459</td>\n",
              "      <td>20078.539146</td>\n",
              "    </tr>\n",
              "    <tr>\n",
              "      <th>2020-01-08</th>\n",
              "      <td>1413.238056</td>\n",
              "      <td>2172.271185</td>\n",
              "      <td>2492.044248</td>\n",
              "      <td>1789.469525</td>\n",
              "      <td>115.666699</td>\n",
              "      <td>1962.133859</td>\n",
              "      <td>1193.486295</td>\n",
              "      <td>110.868797</td>\n",
              "      <td>512.965970</td>\n",
              "      <td>2448.516908</td>\n",
              "      <td>1026.565730</td>\n",
              "      <td>1420.553031</td>\n",
              "      <td>299.010104</td>\n",
              "      <td>915.056005</td>\n",
              "      <td>2245.825091</td>\n",
              "      <td>20117.671504</td>\n",
              "    </tr>\n",
              "  </tbody>\n",
              "</table>\n",
              "</div>"
            ],
            "text/plain": [
              "                   AAPL          AMT  ...          XOM     Portfolio\n",
              "Date                                  ...                           \n",
              "2020-01-02  1400.000000  2200.000000  ...  2300.000000  20000.000000\n",
              "2020-01-03  1386.389023  2201.059173  ...  2281.508963  19936.948562\n",
              "2020-01-06  1397.436256  2200.481359  ...  2299.026802  20120.414156\n",
              "2020-01-07  1390.864366  2153.592654  ...  2280.211459  20078.539146\n",
              "2020-01-08  1413.238056  2172.271185  ...  2245.825091  20117.671504\n",
              "\n",
              "[5 rows x 16 columns]"
            ]
          },
          "metadata": {},
          "execution_count": 72
        }
      ]
    },
    {
      "cell_type": "code",
      "metadata": {
        "colab": {
          "base_uri": "https://localhost:8080/",
          "height": 338
        },
        "id": "tYIfKHq5Uudb",
        "outputId": "16205b33-aa66-4c86-8db9-f93b3a654f28"
      },
      "source": [
        "net_worth.tail()"
      ],
      "execution_count": 73,
      "outputs": [
        {
          "output_type": "execute_result",
          "data": {
            "text/html": [
              "<div>\n",
              "<style scoped>\n",
              "    .dataframe tbody tr th:only-of-type {\n",
              "        vertical-align: middle;\n",
              "    }\n",
              "\n",
              "    .dataframe tbody tr th {\n",
              "        vertical-align: top;\n",
              "    }\n",
              "\n",
              "    .dataframe thead th {\n",
              "        text-align: right;\n",
              "    }\n",
              "</style>\n",
              "<table border=\"1\" class=\"dataframe\">\n",
              "  <thead>\n",
              "    <tr style=\"text-align: right;\">\n",
              "      <th></th>\n",
              "      <th>AAPL</th>\n",
              "      <th>AMT</th>\n",
              "      <th>AMZN</th>\n",
              "      <th>BA</th>\n",
              "      <th>BTC-USD</th>\n",
              "      <th>CAT</th>\n",
              "      <th>DE</th>\n",
              "      <th>ETH-USD</th>\n",
              "      <th>FB</th>\n",
              "      <th>GLD</th>\n",
              "      <th>GOOGL</th>\n",
              "      <th>GS</th>\n",
              "      <th>MSFT</th>\n",
              "      <th>TSLA</th>\n",
              "      <th>XOM</th>\n",
              "      <th>Portfolio</th>\n",
              "    </tr>\n",
              "    <tr>\n",
              "      <th>Date</th>\n",
              "      <th></th>\n",
              "      <th></th>\n",
              "      <th></th>\n",
              "      <th></th>\n",
              "      <th></th>\n",
              "      <th></th>\n",
              "      <th></th>\n",
              "      <th></th>\n",
              "      <th></th>\n",
              "      <th></th>\n",
              "      <th></th>\n",
              "      <th></th>\n",
              "      <th></th>\n",
              "      <th></th>\n",
              "      <th></th>\n",
              "      <th></th>\n",
              "    </tr>\n",
              "  </thead>\n",
              "  <tbody>\n",
              "    <tr>\n",
              "      <th>2021-10-28</th>\n",
              "      <td>2882.702315</td>\n",
              "      <td>2847.136255</td>\n",
              "      <td>4539.715347</td>\n",
              "      <td>1129.113094</td>\n",
              "      <td>867.831869</td>\n",
              "      <td>2851.658452</td>\n",
              "      <td>2432.906425</td>\n",
              "      <td>3364.973565</td>\n",
              "      <td>755.362797</td>\n",
              "      <td>2802.306446</td>\n",
              "      <td>2131.235837</td>\n",
              "      <td>2569.130728</td>\n",
              "      <td>616.230857</td>\n",
              "      <td>10012.922555</td>\n",
              "      <td>2359.648359</td>\n",
              "      <td>42162.874901</td>\n",
              "    </tr>\n",
              "    <tr>\n",
              "      <th>2021-10-29</th>\n",
              "      <td>2830.365044</td>\n",
              "      <td>2806.919289</td>\n",
              "      <td>4442.060256</td>\n",
              "      <td>1124.658530</td>\n",
              "      <td>890.819987</td>\n",
              "      <td>2850.540622</td>\n",
              "      <td>2381.493175</td>\n",
              "      <td>3464.987344</td>\n",
              "      <td>771.212721</td>\n",
              "      <td>2778.464702</td>\n",
              "      <td>2163.339718</td>\n",
              "      <td>2560.026477</td>\n",
              "      <td>630.043071</td>\n",
              "      <td>10356.528376</td>\n",
              "      <td>2365.519178</td>\n",
              "      <td>42416.978490</td>\n",
              "    </tr>\n",
              "    <tr>\n",
              "      <th>2021-11-01</th>\n",
              "      <td>2814.493908</td>\n",
              "      <td>2808.213445</td>\n",
              "      <td>4370.511866</td>\n",
              "      <td>1165.672757</td>\n",
              "      <td>873.304221</td>\n",
              "      <td>2869.683166</td>\n",
              "      <td>2495.868314</td>\n",
              "      <td>3394.255453</td>\n",
              "      <td>786.490640</td>\n",
              "      <td>2792.969912</td>\n",
              "      <td>2096.866929</td>\n",
              "      <td>2580.774280</td>\n",
              "      <td>625.768308</td>\n",
              "      <td>11235.903299</td>\n",
              "      <td>2408.081499</td>\n",
              "      <td>43318.857996</td>\n",
              "    </tr>\n",
              "    <tr>\n",
              "      <th>2021-11-02</th>\n",
              "      <td>2834.521812</td>\n",
              "      <td>2813.688394</td>\n",
              "      <td>4363.451698</td>\n",
              "      <td>1155.840225</td>\n",
              "      <td>905.113047</td>\n",
              "      <td>2893.995273</td>\n",
              "      <td>2471.866151</td>\n",
              "      <td>3598.455680</td>\n",
              "      <td>781.962028</td>\n",
              "      <td>2786.967817</td>\n",
              "      <td>2125.149625</td>\n",
              "      <td>2625.056785</td>\n",
              "      <td>632.911930</td>\n",
              "      <td>10895.737214</td>\n",
              "      <td>2378.361246</td>\n",
              "      <td>43263.078924</td>\n",
              "    </tr>\n",
              "    <tr>\n",
              "      <th>2021-11-03</th>\n",
              "      <td>2862.296444</td>\n",
              "      <td>2793.281435</td>\n",
              "      <td>4457.299991</td>\n",
              "      <td>1159.153959</td>\n",
              "      <td>901.443209</td>\n",
              "      <td>2844.113367</td>\n",
              "      <td>2386.641379</td>\n",
              "      <td>3616.032784</td>\n",
              "      <td>790.399459</td>\n",
              "      <td>2763.793114</td>\n",
              "      <td>2142.180675</td>\n",
              "      <td>2588.206201</td>\n",
              "      <td>634.564829</td>\n",
              "      <td>11284.897112</td>\n",
              "      <td>2345.705583</td>\n",
              "      <td>43570.009541</td>\n",
              "    </tr>\n",
              "  </tbody>\n",
              "</table>\n",
              "</div>"
            ],
            "text/plain": [
              "                   AAPL          AMT  ...          XOM     Portfolio\n",
              "Date                                  ...                           \n",
              "2021-10-28  2882.702315  2847.136255  ...  2359.648359  42162.874901\n",
              "2021-10-29  2830.365044  2806.919289  ...  2365.519178  42416.978490\n",
              "2021-11-01  2814.493908  2808.213445  ...  2408.081499  43318.857996\n",
              "2021-11-02  2834.521812  2813.688394  ...  2378.361246  43263.078924\n",
              "2021-11-03  2862.296444  2793.281435  ...  2345.705583  43570.009541\n",
              "\n",
              "[5 rows x 16 columns]"
            ]
          },
          "metadata": {},
          "execution_count": 73
        }
      ]
    },
    {
      "cell_type": "markdown",
      "metadata": {
        "id": "BFlZaQxxTNiU"
      },
      "source": [
        "## 4. Obtaining data from S&P500"
      ]
    },
    {
      "cell_type": "markdown",
      "metadata": {
        "id": "fuOiDSQMhnQd"
      },
      "source": [
        "Obtaining data from S&P500 to compare with our portfolio"
      ]
    },
    {
      "cell_type": "code",
      "metadata": {
        "colab": {
          "base_uri": "https://localhost:8080/"
        },
        "id": "Ux0eiVaGUx3m",
        "outputId": "2433b2e5-6c40-4948-d082-ec118c4dd5cd"
      },
      "source": [
        "sp500 = yf.download('^GSPC', start = start, end = end)"
      ],
      "execution_count": 74,
      "outputs": [
        {
          "output_type": "stream",
          "name": "stdout",
          "text": [
            "\r[*********************100%***********************]  1 of 1 completed\n"
          ]
        }
      ]
    },
    {
      "cell_type": "code",
      "metadata": {
        "colab": {
          "base_uri": "https://localhost:8080/",
          "height": 234
        },
        "id": "dfC40kGbVVcm",
        "outputId": "43828e26-bff5-4032-afc3-80cc8de49c0f"
      },
      "source": [
        "sp500.head()"
      ],
      "execution_count": 75,
      "outputs": [
        {
          "output_type": "execute_result",
          "data": {
            "text/html": [
              "<div>\n",
              "<style scoped>\n",
              "    .dataframe tbody tr th:only-of-type {\n",
              "        vertical-align: middle;\n",
              "    }\n",
              "\n",
              "    .dataframe tbody tr th {\n",
              "        vertical-align: top;\n",
              "    }\n",
              "\n",
              "    .dataframe thead th {\n",
              "        text-align: right;\n",
              "    }\n",
              "</style>\n",
              "<table border=\"1\" class=\"dataframe\">\n",
              "  <thead>\n",
              "    <tr style=\"text-align: right;\">\n",
              "      <th></th>\n",
              "      <th>Open</th>\n",
              "      <th>High</th>\n",
              "      <th>Low</th>\n",
              "      <th>Close</th>\n",
              "      <th>Adj Close</th>\n",
              "      <th>Volume</th>\n",
              "    </tr>\n",
              "    <tr>\n",
              "      <th>Date</th>\n",
              "      <th></th>\n",
              "      <th></th>\n",
              "      <th></th>\n",
              "      <th></th>\n",
              "      <th></th>\n",
              "      <th></th>\n",
              "    </tr>\n",
              "  </thead>\n",
              "  <tbody>\n",
              "    <tr>\n",
              "      <th>2020-01-02</th>\n",
              "      <td>3244.669922</td>\n",
              "      <td>3258.139893</td>\n",
              "      <td>3235.530029</td>\n",
              "      <td>3257.850098</td>\n",
              "      <td>3257.850098</td>\n",
              "      <td>3458250000</td>\n",
              "    </tr>\n",
              "    <tr>\n",
              "      <th>2020-01-03</th>\n",
              "      <td>3226.360107</td>\n",
              "      <td>3246.149902</td>\n",
              "      <td>3222.340088</td>\n",
              "      <td>3234.850098</td>\n",
              "      <td>3234.850098</td>\n",
              "      <td>3461290000</td>\n",
              "    </tr>\n",
              "    <tr>\n",
              "      <th>2020-01-06</th>\n",
              "      <td>3217.550049</td>\n",
              "      <td>3246.840088</td>\n",
              "      <td>3214.639893</td>\n",
              "      <td>3246.280029</td>\n",
              "      <td>3246.280029</td>\n",
              "      <td>3674070000</td>\n",
              "    </tr>\n",
              "    <tr>\n",
              "      <th>2020-01-07</th>\n",
              "      <td>3241.860107</td>\n",
              "      <td>3244.909912</td>\n",
              "      <td>3232.429932</td>\n",
              "      <td>3237.179932</td>\n",
              "      <td>3237.179932</td>\n",
              "      <td>3420380000</td>\n",
              "    </tr>\n",
              "    <tr>\n",
              "      <th>2020-01-08</th>\n",
              "      <td>3238.590088</td>\n",
              "      <td>3267.070068</td>\n",
              "      <td>3236.669922</td>\n",
              "      <td>3253.050049</td>\n",
              "      <td>3253.050049</td>\n",
              "      <td>3720890000</td>\n",
              "    </tr>\n",
              "  </tbody>\n",
              "</table>\n",
              "</div>"
            ],
            "text/plain": [
              "                   Open         High  ...    Adj Close      Volume\n",
              "Date                                  ...                         \n",
              "2020-01-02  3244.669922  3258.139893  ...  3257.850098  3458250000\n",
              "2020-01-03  3226.360107  3246.149902  ...  3234.850098  3461290000\n",
              "2020-01-06  3217.550049  3246.840088  ...  3246.280029  3674070000\n",
              "2020-01-07  3241.860107  3244.909912  ...  3237.179932  3420380000\n",
              "2020-01-08  3238.590088  3267.070068  ...  3253.050049  3720890000\n",
              "\n",
              "[5 rows x 6 columns]"
            ]
          },
          "metadata": {},
          "execution_count": 75
        }
      ]
    },
    {
      "cell_type": "code",
      "metadata": {
        "id": "tsJ1k-bcVXOy"
      },
      "source": [
        "sp500.rename(columns = {'Adj Close': 'S&P500'}, inplace = True)"
      ],
      "execution_count": 76,
      "outputs": []
    },
    {
      "cell_type": "code",
      "metadata": {
        "id": "9GVLjzwbVyhK"
      },
      "source": [
        "sp500 = sp500.drop(sp500.columns[[0,1,2,3,5]], axis = 1)"
      ],
      "execution_count": 77,
      "outputs": []
    },
    {
      "cell_type": "code",
      "metadata": {
        "colab": {
          "base_uri": "https://localhost:8080/",
          "height": 447
        },
        "id": "6i8sneEnWSv1",
        "outputId": "2c87eda1-9226-4f9f-d324-208500ccb24e"
      },
      "source": [
        "sp500"
      ],
      "execution_count": 78,
      "outputs": [
        {
          "output_type": "execute_result",
          "data": {
            "text/html": [
              "<div>\n",
              "<style scoped>\n",
              "    .dataframe tbody tr th:only-of-type {\n",
              "        vertical-align: middle;\n",
              "    }\n",
              "\n",
              "    .dataframe tbody tr th {\n",
              "        vertical-align: top;\n",
              "    }\n",
              "\n",
              "    .dataframe thead th {\n",
              "        text-align: right;\n",
              "    }\n",
              "</style>\n",
              "<table border=\"1\" class=\"dataframe\">\n",
              "  <thead>\n",
              "    <tr style=\"text-align: right;\">\n",
              "      <th></th>\n",
              "      <th>S&amp;P500</th>\n",
              "    </tr>\n",
              "    <tr>\n",
              "      <th>Date</th>\n",
              "      <th></th>\n",
              "    </tr>\n",
              "  </thead>\n",
              "  <tbody>\n",
              "    <tr>\n",
              "      <th>2020-01-02</th>\n",
              "      <td>3257.850098</td>\n",
              "    </tr>\n",
              "    <tr>\n",
              "      <th>2020-01-03</th>\n",
              "      <td>3234.850098</td>\n",
              "    </tr>\n",
              "    <tr>\n",
              "      <th>2020-01-06</th>\n",
              "      <td>3246.280029</td>\n",
              "    </tr>\n",
              "    <tr>\n",
              "      <th>2020-01-07</th>\n",
              "      <td>3237.179932</td>\n",
              "    </tr>\n",
              "    <tr>\n",
              "      <th>2020-01-08</th>\n",
              "      <td>3253.050049</td>\n",
              "    </tr>\n",
              "    <tr>\n",
              "      <th>...</th>\n",
              "      <td>...</td>\n",
              "    </tr>\n",
              "    <tr>\n",
              "      <th>2021-10-28</th>\n",
              "      <td>4596.419922</td>\n",
              "    </tr>\n",
              "    <tr>\n",
              "      <th>2021-10-29</th>\n",
              "      <td>4605.379883</td>\n",
              "    </tr>\n",
              "    <tr>\n",
              "      <th>2021-11-01</th>\n",
              "      <td>4613.669922</td>\n",
              "    </tr>\n",
              "    <tr>\n",
              "      <th>2021-11-02</th>\n",
              "      <td>4630.649902</td>\n",
              "    </tr>\n",
              "    <tr>\n",
              "      <th>2021-11-03</th>\n",
              "      <td>4660.569824</td>\n",
              "    </tr>\n",
              "  </tbody>\n",
              "</table>\n",
              "<p>465 rows × 1 columns</p>\n",
              "</div>"
            ],
            "text/plain": [
              "                 S&P500\n",
              "Date                   \n",
              "2020-01-02  3257.850098\n",
              "2020-01-03  3234.850098\n",
              "2020-01-06  3246.280029\n",
              "2020-01-07  3237.179932\n",
              "2020-01-08  3253.050049\n",
              "...                 ...\n",
              "2021-10-28  4596.419922\n",
              "2021-10-29  4605.379883\n",
              "2021-11-01  4613.669922\n",
              "2021-11-02  4630.649902\n",
              "2021-11-03  4660.569824\n",
              "\n",
              "[465 rows x 1 columns]"
            ]
          },
          "metadata": {},
          "execution_count": 78
        }
      ]
    },
    {
      "cell_type": "markdown",
      "metadata": {
        "id": "99erBUbEhufV"
      },
      "source": [
        "Let's check if the dataframes index are in the data format"
      ]
    },
    {
      "cell_type": "code",
      "metadata": {
        "id": "SnlZDqSO0ygr"
      },
      "source": [
        "net_worth.index = pd.to_datetime(net_worth.index)"
      ],
      "execution_count": 87,
      "outputs": []
    },
    {
      "cell_type": "code",
      "metadata": {
        "id": "vO8ppnFwXA2C"
      },
      "source": [
        "sp500.index = pd.to_datetime(sp500.index)"
      ],
      "execution_count": 88,
      "outputs": []
    },
    {
      "cell_type": "markdown",
      "metadata": {
        "id": "XIywli3khsft"
      },
      "source": [
        "Juntando tudo num dataframe só"
      ]
    },
    {
      "cell_type": "code",
      "metadata": {
        "id": "7hUOrcb0WTgL"
      },
      "source": [
        "full_df = pd.merge(sp500, net_worth, how = 'inner', on = 'Date')"
      ],
      "execution_count": 81,
      "outputs": []
    },
    {
      "cell_type": "code",
      "metadata": {
        "colab": {
          "base_uri": "https://localhost:8080/",
          "height": 338
        },
        "id": "6GLwKN1BW0eC",
        "outputId": "3353a820-aa6f-41fd-eea6-b3108874739d"
      },
      "source": [
        "full_df.head()"
      ],
      "execution_count": 82,
      "outputs": [
        {
          "output_type": "execute_result",
          "data": {
            "text/html": [
              "<div>\n",
              "<style scoped>\n",
              "    .dataframe tbody tr th:only-of-type {\n",
              "        vertical-align: middle;\n",
              "    }\n",
              "\n",
              "    .dataframe tbody tr th {\n",
              "        vertical-align: top;\n",
              "    }\n",
              "\n",
              "    .dataframe thead th {\n",
              "        text-align: right;\n",
              "    }\n",
              "</style>\n",
              "<table border=\"1\" class=\"dataframe\">\n",
              "  <thead>\n",
              "    <tr style=\"text-align: right;\">\n",
              "      <th></th>\n",
              "      <th>S&amp;P500</th>\n",
              "      <th>AAPL</th>\n",
              "      <th>AMT</th>\n",
              "      <th>AMZN</th>\n",
              "      <th>BA</th>\n",
              "      <th>BTC-USD</th>\n",
              "      <th>CAT</th>\n",
              "      <th>DE</th>\n",
              "      <th>ETH-USD</th>\n",
              "      <th>FB</th>\n",
              "      <th>GLD</th>\n",
              "      <th>GOOGL</th>\n",
              "      <th>GS</th>\n",
              "      <th>MSFT</th>\n",
              "      <th>TSLA</th>\n",
              "      <th>XOM</th>\n",
              "      <th>Portfolio</th>\n",
              "    </tr>\n",
              "    <tr>\n",
              "      <th>Date</th>\n",
              "      <th></th>\n",
              "      <th></th>\n",
              "      <th></th>\n",
              "      <th></th>\n",
              "      <th></th>\n",
              "      <th></th>\n",
              "      <th></th>\n",
              "      <th></th>\n",
              "      <th></th>\n",
              "      <th></th>\n",
              "      <th></th>\n",
              "      <th></th>\n",
              "      <th></th>\n",
              "      <th></th>\n",
              "      <th></th>\n",
              "      <th></th>\n",
              "      <th></th>\n",
              "    </tr>\n",
              "  </thead>\n",
              "  <tbody>\n",
              "    <tr>\n",
              "      <th>2020-01-02</th>\n",
              "      <td>3257.850098</td>\n",
              "      <td>1400.000000</td>\n",
              "      <td>2200.000000</td>\n",
              "      <td>2500.000000</td>\n",
              "      <td>1800.000000</td>\n",
              "      <td>100.000000</td>\n",
              "      <td>2000.000000</td>\n",
              "      <td>1200.000000</td>\n",
              "      <td>100.000000</td>\n",
              "      <td>500.000000</td>\n",
              "      <td>2400.000000</td>\n",
              "      <td>1000.000000</td>\n",
              "      <td>1400.000000</td>\n",
              "      <td>300.000000</td>\n",
              "      <td>800.000000</td>\n",
              "      <td>2300.000000</td>\n",
              "      <td>20000.000000</td>\n",
              "    </tr>\n",
              "    <tr>\n",
              "      <th>2020-01-03</th>\n",
              "      <td>3234.850098</td>\n",
              "      <td>1386.389023</td>\n",
              "      <td>2201.059173</td>\n",
              "      <td>2469.652374</td>\n",
              "      <td>1796.975970</td>\n",
              "      <td>105.145166</td>\n",
              "      <td>1972.231852</td>\n",
              "      <td>1191.111450</td>\n",
              "      <td>105.306898</td>\n",
              "      <td>497.354370</td>\n",
              "      <td>2431.844452</td>\n",
              "      <td>994.768657</td>\n",
              "      <td>1383.629208</td>\n",
              "      <td>296.264453</td>\n",
              "      <td>823.706553</td>\n",
              "      <td>2281.508963</td>\n",
              "      <td>19936.948562</td>\n",
              "    </tr>\n",
              "    <tr>\n",
              "      <th>2020-01-06</th>\n",
              "      <td>3246.280029</td>\n",
              "      <td>1397.436256</td>\n",
              "      <td>2200.481359</td>\n",
              "      <td>2506.414607</td>\n",
              "      <td>1802.268064</td>\n",
              "      <td>111.219703</td>\n",
              "      <td>1970.902737</td>\n",
              "      <td>1199.660721</td>\n",
              "      <td>113.259517</td>\n",
              "      <td>506.721345</td>\n",
              "      <td>2457.353290</td>\n",
              "      <td>1021.283283</td>\n",
              "      <td>1397.789475</td>\n",
              "      <td>297.030255</td>\n",
              "      <td>839.566742</td>\n",
              "      <td>2299.026802</td>\n",
              "      <td>20120.414156</td>\n",
              "    </tr>\n",
              "    <tr>\n",
              "      <th>2020-01-07</th>\n",
              "      <td>3237.179932</td>\n",
              "      <td>1390.864366</td>\n",
              "      <td>2153.592654</td>\n",
              "      <td>2511.656914</td>\n",
              "      <td>1821.384888</td>\n",
              "      <td>116.866755</td>\n",
              "      <td>1944.861969</td>\n",
              "      <td>1178.830856</td>\n",
              "      <td>112.662891</td>\n",
              "      <td>507.817711</td>\n",
              "      <td>2467.023345</td>\n",
              "      <td>1019.310526</td>\n",
              "      <td>1406.990497</td>\n",
              "      <td>294.321943</td>\n",
              "      <td>872.142373</td>\n",
              "      <td>2280.211459</td>\n",
              "      <td>20078.539146</td>\n",
              "    </tr>\n",
              "    <tr>\n",
              "      <th>2020-01-08</th>\n",
              "      <td>3253.050049</td>\n",
              "      <td>1413.238056</td>\n",
              "      <td>2172.271185</td>\n",
              "      <td>2492.044248</td>\n",
              "      <td>1789.469525</td>\n",
              "      <td>115.666699</td>\n",
              "      <td>1962.133859</td>\n",
              "      <td>1193.486295</td>\n",
              "      <td>110.868797</td>\n",
              "      <td>512.965970</td>\n",
              "      <td>2448.516908</td>\n",
              "      <td>1026.565730</td>\n",
              "      <td>1420.553031</td>\n",
              "      <td>299.010104</td>\n",
              "      <td>915.056005</td>\n",
              "      <td>2245.825091</td>\n",
              "      <td>20117.671504</td>\n",
              "    </tr>\n",
              "  </tbody>\n",
              "</table>\n",
              "</div>"
            ],
            "text/plain": [
              "                 S&P500         AAPL  ...          XOM     Portfolio\n",
              "Date                                  ...                           \n",
              "2020-01-02  3257.850098  1400.000000  ...  2300.000000  20000.000000\n",
              "2020-01-03  3234.850098  1386.389023  ...  2281.508963  19936.948562\n",
              "2020-01-06  3246.280029  1397.436256  ...  2299.026802  20120.414156\n",
              "2020-01-07  3237.179932  1390.864366  ...  2280.211459  20078.539146\n",
              "2020-01-08  3253.050049  1413.238056  ...  2245.825091  20117.671504\n",
              "\n",
              "[5 rows x 17 columns]"
            ]
          },
          "metadata": {},
          "execution_count": 82
        }
      ]
    },
    {
      "cell_type": "markdown",
      "metadata": {
        "id": "8gCga6PKhzyl"
      },
      "source": [
        "Normalizando esse novo dataframe que contém o IBOV, todos os ativos e o PL da nossa carteira"
      ]
    },
    {
      "cell_type": "code",
      "metadata": {
        "id": "wsB4ZEeNXSyg"
      },
      "source": [
        "net_normalized = full_df/full_df.iloc[0]"
      ],
      "execution_count": 83,
      "outputs": []
    },
    {
      "cell_type": "code",
      "metadata": {
        "colab": {
          "base_uri": "https://localhost:8080/",
          "height": 234
        },
        "id": "gLpphux5Xk1T",
        "outputId": "482c5aae-e185-424d-c948-796f6f6f83e3"
      },
      "source": [
        "net_normalized.head()"
      ],
      "execution_count": 84,
      "outputs": [
        {
          "output_type": "execute_result",
          "data": {
            "text/html": [
              "<div>\n",
              "<style scoped>\n",
              "    .dataframe tbody tr th:only-of-type {\n",
              "        vertical-align: middle;\n",
              "    }\n",
              "\n",
              "    .dataframe tbody tr th {\n",
              "        vertical-align: top;\n",
              "    }\n",
              "\n",
              "    .dataframe thead th {\n",
              "        text-align: right;\n",
              "    }\n",
              "</style>\n",
              "<table border=\"1\" class=\"dataframe\">\n",
              "  <thead>\n",
              "    <tr style=\"text-align: right;\">\n",
              "      <th></th>\n",
              "      <th>S&amp;P500</th>\n",
              "      <th>AAPL</th>\n",
              "      <th>AMT</th>\n",
              "      <th>AMZN</th>\n",
              "      <th>BA</th>\n",
              "      <th>BTC-USD</th>\n",
              "      <th>CAT</th>\n",
              "      <th>DE</th>\n",
              "      <th>ETH-USD</th>\n",
              "      <th>FB</th>\n",
              "      <th>GLD</th>\n",
              "      <th>GOOGL</th>\n",
              "      <th>GS</th>\n",
              "      <th>MSFT</th>\n",
              "      <th>TSLA</th>\n",
              "      <th>XOM</th>\n",
              "      <th>Portfolio</th>\n",
              "    </tr>\n",
              "    <tr>\n",
              "      <th>Date</th>\n",
              "      <th></th>\n",
              "      <th></th>\n",
              "      <th></th>\n",
              "      <th></th>\n",
              "      <th></th>\n",
              "      <th></th>\n",
              "      <th></th>\n",
              "      <th></th>\n",
              "      <th></th>\n",
              "      <th></th>\n",
              "      <th></th>\n",
              "      <th></th>\n",
              "      <th></th>\n",
              "      <th></th>\n",
              "      <th></th>\n",
              "      <th></th>\n",
              "      <th></th>\n",
              "    </tr>\n",
              "  </thead>\n",
              "  <tbody>\n",
              "    <tr>\n",
              "      <th>2020-01-02</th>\n",
              "      <td>1.000000</td>\n",
              "      <td>1.000000</td>\n",
              "      <td>1.000000</td>\n",
              "      <td>1.000000</td>\n",
              "      <td>1.00000</td>\n",
              "      <td>1.000000</td>\n",
              "      <td>1.000000</td>\n",
              "      <td>1.000000</td>\n",
              "      <td>1.000000</td>\n",
              "      <td>1.000000</td>\n",
              "      <td>1.000000</td>\n",
              "      <td>1.000000</td>\n",
              "      <td>1.000000</td>\n",
              "      <td>1.000000</td>\n",
              "      <td>1.000000</td>\n",
              "      <td>1.000000</td>\n",
              "      <td>1.000000</td>\n",
              "    </tr>\n",
              "    <tr>\n",
              "      <th>2020-01-03</th>\n",
              "      <td>0.992940</td>\n",
              "      <td>0.990278</td>\n",
              "      <td>1.000481</td>\n",
              "      <td>0.987861</td>\n",
              "      <td>0.99832</td>\n",
              "      <td>1.051452</td>\n",
              "      <td>0.986116</td>\n",
              "      <td>0.992593</td>\n",
              "      <td>1.053069</td>\n",
              "      <td>0.994709</td>\n",
              "      <td>1.013269</td>\n",
              "      <td>0.994769</td>\n",
              "      <td>0.988307</td>\n",
              "      <td>0.987548</td>\n",
              "      <td>1.029633</td>\n",
              "      <td>0.991960</td>\n",
              "      <td>0.996847</td>\n",
              "    </tr>\n",
              "    <tr>\n",
              "      <th>2020-01-06</th>\n",
              "      <td>0.996449</td>\n",
              "      <td>0.998169</td>\n",
              "      <td>1.000219</td>\n",
              "      <td>1.002566</td>\n",
              "      <td>1.00126</td>\n",
              "      <td>1.112197</td>\n",
              "      <td>0.985451</td>\n",
              "      <td>0.999717</td>\n",
              "      <td>1.132595</td>\n",
              "      <td>1.013443</td>\n",
              "      <td>1.023897</td>\n",
              "      <td>1.021283</td>\n",
              "      <td>0.998421</td>\n",
              "      <td>0.990101</td>\n",
              "      <td>1.049458</td>\n",
              "      <td>0.999577</td>\n",
              "      <td>1.006021</td>\n",
              "    </tr>\n",
              "    <tr>\n",
              "      <th>2020-01-07</th>\n",
              "      <td>0.993655</td>\n",
              "      <td>0.993475</td>\n",
              "      <td>0.978906</td>\n",
              "      <td>1.004663</td>\n",
              "      <td>1.01188</td>\n",
              "      <td>1.168668</td>\n",
              "      <td>0.972431</td>\n",
              "      <td>0.982359</td>\n",
              "      <td>1.126629</td>\n",
              "      <td>1.015635</td>\n",
              "      <td>1.027926</td>\n",
              "      <td>1.019311</td>\n",
              "      <td>1.004993</td>\n",
              "      <td>0.981073</td>\n",
              "      <td>1.090178</td>\n",
              "      <td>0.991396</td>\n",
              "      <td>1.003927</td>\n",
              "    </tr>\n",
              "    <tr>\n",
              "      <th>2020-01-08</th>\n",
              "      <td>0.998527</td>\n",
              "      <td>1.009456</td>\n",
              "      <td>0.987396</td>\n",
              "      <td>0.996818</td>\n",
              "      <td>0.99415</td>\n",
              "      <td>1.156667</td>\n",
              "      <td>0.981067</td>\n",
              "      <td>0.994572</td>\n",
              "      <td>1.108688</td>\n",
              "      <td>1.025932</td>\n",
              "      <td>1.020215</td>\n",
              "      <td>1.026566</td>\n",
              "      <td>1.014681</td>\n",
              "      <td>0.996700</td>\n",
              "      <td>1.143820</td>\n",
              "      <td>0.976446</td>\n",
              "      <td>1.005884</td>\n",
              "    </tr>\n",
              "  </tbody>\n",
              "</table>\n",
              "</div>"
            ],
            "text/plain": [
              "              S&P500      AAPL       AMT  ...      TSLA       XOM  Portfolio\n",
              "Date                                      ...                               \n",
              "2020-01-02  1.000000  1.000000  1.000000  ...  1.000000  1.000000   1.000000\n",
              "2020-01-03  0.992940  0.990278  1.000481  ...  1.029633  0.991960   0.996847\n",
              "2020-01-06  0.996449  0.998169  1.000219  ...  1.049458  0.999577   1.006021\n",
              "2020-01-07  0.993655  0.993475  0.978906  ...  1.090178  0.991396   1.003927\n",
              "2020-01-08  0.998527  1.009456  0.987396  ...  1.143820  0.976446   1.005884\n",
              "\n",
              "[5 rows x 17 columns]"
            ]
          },
          "metadata": {},
          "execution_count": 84
        }
      ]
    },
    {
      "cell_type": "code",
      "metadata": {
        "colab": {
          "base_uri": "https://localhost:8080/",
          "height": 234
        },
        "id": "qV56DhMXX0YJ",
        "outputId": "8d565910-63da-4028-9f97-2153513356c7"
      },
      "source": [
        "net_normalized.tail()"
      ],
      "execution_count": 85,
      "outputs": [
        {
          "output_type": "execute_result",
          "data": {
            "text/html": [
              "<div>\n",
              "<style scoped>\n",
              "    .dataframe tbody tr th:only-of-type {\n",
              "        vertical-align: middle;\n",
              "    }\n",
              "\n",
              "    .dataframe tbody tr th {\n",
              "        vertical-align: top;\n",
              "    }\n",
              "\n",
              "    .dataframe thead th {\n",
              "        text-align: right;\n",
              "    }\n",
              "</style>\n",
              "<table border=\"1\" class=\"dataframe\">\n",
              "  <thead>\n",
              "    <tr style=\"text-align: right;\">\n",
              "      <th></th>\n",
              "      <th>S&amp;P500</th>\n",
              "      <th>AAPL</th>\n",
              "      <th>AMT</th>\n",
              "      <th>AMZN</th>\n",
              "      <th>BA</th>\n",
              "      <th>BTC-USD</th>\n",
              "      <th>CAT</th>\n",
              "      <th>DE</th>\n",
              "      <th>ETH-USD</th>\n",
              "      <th>FB</th>\n",
              "      <th>GLD</th>\n",
              "      <th>GOOGL</th>\n",
              "      <th>GS</th>\n",
              "      <th>MSFT</th>\n",
              "      <th>TSLA</th>\n",
              "      <th>XOM</th>\n",
              "      <th>Portfolio</th>\n",
              "    </tr>\n",
              "    <tr>\n",
              "      <th>Date</th>\n",
              "      <th></th>\n",
              "      <th></th>\n",
              "      <th></th>\n",
              "      <th></th>\n",
              "      <th></th>\n",
              "      <th></th>\n",
              "      <th></th>\n",
              "      <th></th>\n",
              "      <th></th>\n",
              "      <th></th>\n",
              "      <th></th>\n",
              "      <th></th>\n",
              "      <th></th>\n",
              "      <th></th>\n",
              "      <th></th>\n",
              "      <th></th>\n",
              "      <th></th>\n",
              "    </tr>\n",
              "  </thead>\n",
              "  <tbody>\n",
              "    <tr>\n",
              "      <th>2021-10-28</th>\n",
              "      <td>1.410875</td>\n",
              "      <td>2.059073</td>\n",
              "      <td>1.294153</td>\n",
              "      <td>1.815886</td>\n",
              "      <td>0.627285</td>\n",
              "      <td>8.678319</td>\n",
              "      <td>1.425829</td>\n",
              "      <td>2.027422</td>\n",
              "      <td>33.649736</td>\n",
              "      <td>1.510726</td>\n",
              "      <td>1.167628</td>\n",
              "      <td>2.131236</td>\n",
              "      <td>1.835093</td>\n",
              "      <td>2.054103</td>\n",
              "      <td>12.516153</td>\n",
              "      <td>1.025934</td>\n",
              "      <td>2.108144</td>\n",
              "    </tr>\n",
              "    <tr>\n",
              "      <th>2021-10-29</th>\n",
              "      <td>1.413625</td>\n",
              "      <td>2.021689</td>\n",
              "      <td>1.275872</td>\n",
              "      <td>1.776824</td>\n",
              "      <td>0.624810</td>\n",
              "      <td>8.908200</td>\n",
              "      <td>1.425270</td>\n",
              "      <td>1.984578</td>\n",
              "      <td>34.649873</td>\n",
              "      <td>1.542425</td>\n",
              "      <td>1.157694</td>\n",
              "      <td>2.163340</td>\n",
              "      <td>1.828590</td>\n",
              "      <td>2.100144</td>\n",
              "      <td>12.945660</td>\n",
              "      <td>1.028487</td>\n",
              "      <td>2.120849</td>\n",
              "    </tr>\n",
              "    <tr>\n",
              "      <th>2021-11-01</th>\n",
              "      <td>1.416170</td>\n",
              "      <td>2.010353</td>\n",
              "      <td>1.276461</td>\n",
              "      <td>1.748205</td>\n",
              "      <td>0.647596</td>\n",
              "      <td>8.733042</td>\n",
              "      <td>1.434842</td>\n",
              "      <td>2.079890</td>\n",
              "      <td>33.942555</td>\n",
              "      <td>1.572981</td>\n",
              "      <td>1.163737</td>\n",
              "      <td>2.096867</td>\n",
              "      <td>1.843410</td>\n",
              "      <td>2.085894</td>\n",
              "      <td>14.044879</td>\n",
              "      <td>1.046992</td>\n",
              "      <td>2.165943</td>\n",
              "    </tr>\n",
              "    <tr>\n",
              "      <th>2021-11-02</th>\n",
              "      <td>1.421382</td>\n",
              "      <td>2.024658</td>\n",
              "      <td>1.278949</td>\n",
              "      <td>1.745381</td>\n",
              "      <td>0.642133</td>\n",
              "      <td>9.051130</td>\n",
              "      <td>1.446998</td>\n",
              "      <td>2.059888</td>\n",
              "      <td>35.984557</td>\n",
              "      <td>1.563924</td>\n",
              "      <td>1.161237</td>\n",
              "      <td>2.125150</td>\n",
              "      <td>1.875041</td>\n",
              "      <td>2.109706</td>\n",
              "      <td>13.619672</td>\n",
              "      <td>1.034070</td>\n",
              "      <td>2.163154</td>\n",
              "    </tr>\n",
              "    <tr>\n",
              "      <th>2021-11-03</th>\n",
              "      <td>1.430566</td>\n",
              "      <td>2.044497</td>\n",
              "      <td>1.269673</td>\n",
              "      <td>1.782920</td>\n",
              "      <td>0.643974</td>\n",
              "      <td>9.014432</td>\n",
              "      <td>1.422057</td>\n",
              "      <td>1.988868</td>\n",
              "      <td>36.160328</td>\n",
              "      <td>1.580799</td>\n",
              "      <td>1.151580</td>\n",
              "      <td>2.142181</td>\n",
              "      <td>1.848719</td>\n",
              "      <td>2.115216</td>\n",
              "      <td>14.106121</td>\n",
              "      <td>1.019872</td>\n",
              "      <td>2.178500</td>\n",
              "    </tr>\n",
              "  </tbody>\n",
              "</table>\n",
              "</div>"
            ],
            "text/plain": [
              "              S&P500      AAPL       AMT  ...       TSLA       XOM  Portfolio\n",
              "Date                                      ...                                \n",
              "2021-10-28  1.410875  2.059073  1.294153  ...  12.516153  1.025934   2.108144\n",
              "2021-10-29  1.413625  2.021689  1.275872  ...  12.945660  1.028487   2.120849\n",
              "2021-11-01  1.416170  2.010353  1.276461  ...  14.044879  1.046992   2.165943\n",
              "2021-11-02  1.421382  2.024658  1.278949  ...  13.619672  1.034070   2.163154\n",
              "2021-11-03  1.430566  2.044497  1.269673  ...  14.106121  1.019872   2.178500\n",
              "\n",
              "[5 rows x 17 columns]"
            ]
          },
          "metadata": {},
          "execution_count": 85
        }
      ]
    },
    {
      "cell_type": "markdown",
      "metadata": {
        "id": "2U2vt34Rh49d"
      },
      "source": [
        "Plotting our portfolio vs. S&P500"
      ]
    },
    {
      "cell_type": "code",
      "metadata": {
        "colab": {
          "base_uri": "https://localhost:8080/",
          "height": 571
        },
        "id": "n-EFVvb9X12F",
        "outputId": "fbb2ab34-4a4a-428d-cf19-603d88ad26f7"
      },
      "source": [
        "net_normalized[['S&P500', 'Portfolio']].plot(figsize = (10,10));"
      ],
      "execution_count": 86,
      "outputs": [
        {
          "output_type": "display_data",
          "data": {
            "image/png": "[encoded data removed]",
            "text/plain": [
              "<Figure size 720x720 with 1 Axes>"
            ]
          },
          "metadata": {
            "needs_background": "light"
          }
        }
      ]
    },
    {
      "cell_type": "code",
      "metadata": {
        "id": "G_oa3Tc5YDC9"
      },
      "source": [
        ""
      ],
      "execution_count": 245,
      "outputs": []
    }
  ]
}